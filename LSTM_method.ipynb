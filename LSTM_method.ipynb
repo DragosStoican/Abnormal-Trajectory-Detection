{
 "cells": [
  {
   "cell_type": "code",
   "execution_count": 44,
   "metadata": {
    "collapsed": true
   },
   "outputs": [
    {
     "name": "stdout",
     "output_type": "stream",
     "text": [
      "[PhysicalDevice(name='/physical_device:GPU:0', device_type='GPU')]\n"
     ]
    }
   ],
   "source": [
    "from data_processing import get_data\n",
    "import tensorflow as tf\n",
    "import numpy as np\n",
    "from sklearn.preprocessing import OneHotEncoder\n",
    "from sklearn.model_selection import train_test_split\n",
    "from sklearn.metrics import confusion_matrix\n",
    "import seaborn as sns\n",
    "from keras.layers import Input, LSTM, Dense, concatenate\n",
    "from keras import Model, optimizers, losses, metrics\n",
    "import matplotlib.pyplot as plt\n",
    "\n",
    "print(tf.config.list_physical_devices('GPU'))"
   ]
  },
  {
   "cell_type": "code",
   "execution_count": 45,
   "outputs": [
    {
     "name": "stdout",
     "output_type": "stream",
     "text": [
      "Normal data shape: (45341, 125)\n",
      "Abnormal data shape: (82, 125)\n",
      "Real abnormal data shape: (891, 125)\n",
      "Real abnormal data 2 shape: (891, 125)\n"
     ]
    }
   ],
   "source": [
    "normal_data, abnormal_data, real_abnormal_data, real_abnormal_data_2 = get_data(\"rene\")"
   ],
   "metadata": {
    "collapsed": false
   }
  },
  {
   "cell_type": "code",
   "execution_count": 46,
   "outputs": [],
   "source": [
    "# Transform torch tensors to keras tensors\n",
    "normal_data = tf.convert_to_tensor(normal_data.numpy())\n",
    "abnormal_data = tf.convert_to_tensor(abnormal_data.numpy())\n",
    "real_abnormal_data = tf.convert_to_tensor(real_abnormal_data.numpy())\n",
    "real_abnormal_data_2 = tf.convert_to_tensor(real_abnormal_data_2.numpy())"
   ],
   "metadata": {
    "collapsed": false
   }
  },
  {
   "cell_type": "code",
   "execution_count": 47,
   "outputs": [
    {
     "data": {
      "text/plain": "TensorShape([47205, 125])"
     },
     "execution_count": 47,
     "metadata": {},
     "output_type": "execute_result"
    }
   ],
   "source": [
    "data = tf.concat([normal_data, abnormal_data, real_abnormal_data, real_abnormal_data_2], 0)\n",
    "data.shape"
   ],
   "metadata": {
    "collapsed": false
   }
  },
  {
   "cell_type": "code",
   "execution_count": 48,
   "outputs": [
    {
     "data": {
      "text/plain": "array([[1.],\n       [1.],\n       [1.],\n       ...,\n       [0.],\n       [0.],\n       [0.]])"
     },
     "execution_count": 48,
     "metadata": {},
     "output_type": "execute_result"
    }
   ],
   "source": [
    "# Create the labels, since we will be doing supervised learning. 1 represents a normal trajectory, 0 is abnormal\n",
    "labels = np.concatenate([\n",
    "    np.ones(normal_data.shape[0]),\n",
    "    np.zeros(abnormal_data.shape[0]),\n",
    "    np.zeros(real_abnormal_data.shape[0]),\n",
    "    np.zeros(real_abnormal_data_2.shape[0])\n",
    "], 0)\n",
    "\n",
    "labels = np.reshape(labels, [-1, 1])\n",
    "labels"
   ],
   "metadata": {
    "collapsed": false
   }
  },
  {
   "cell_type": "code",
   "execution_count": 49,
   "outputs": [
    {
     "name": "stdout",
     "output_type": "stream",
     "text": [
      "Examples:\n",
      "    Total: 47205\n",
      "    Normal: 45341 (96.05% of total)\n",
      "\n"
     ]
    }
   ],
   "source": [
    "# Let's see the distribution of normal and abnormal data\n",
    "neg, pos = tf.math.bincount(labels)\n",
    "total = neg + pos\n",
    "print('Examples:\\n    Total: {}\\n    Normal: {} ({:.2f}% of total)\\n'.format(\n",
    "    total, pos, 100 * pos / total))"
   ],
   "metadata": {
    "collapsed": false
   }
  },
  {
   "cell_type": "code",
   "execution_count": 50,
   "outputs": [
    {
     "data": {
      "text/plain": "TensorShape([47205, 126])"
     },
     "execution_count": 50,
     "metadata": {},
     "output_type": "execute_result"
    }
   ],
   "source": [
    "data = tf.concat([data, labels], 1)\n",
    "data.shape"
   ],
   "metadata": {
    "collapsed": false
   }
  },
  {
   "cell_type": "code",
   "execution_count": 51,
   "outputs": [],
   "source": [
    "train_data, test_data = train_test_split(data.numpy(), test_size=0.2)\n",
    "train_data, val_data = train_test_split(train_data, test_size=0.2)"
   ],
   "metadata": {
    "collapsed": false
   }
  },
  {
   "cell_type": "code",
   "execution_count": 52,
   "outputs": [],
   "source": [
    "train_labels = train_data[:,-1].astype('int32')\n",
    "train_categories = train_data[:,0].astype('int32')\n",
    "train_data = train_data[:,1:-1]\n",
    "\n",
    "val_labels = val_data[:,-1].astype('int32')\n",
    "val_categories = val_data[:,0].astype('int32')\n",
    "val_data = val_data[:,1:-1]\n",
    "\n",
    "test_labels = test_data[:,-1].astype('int32')\n",
    "test_categories = test_data[:,0].astype('int32')\n",
    "test_data = test_data[:,1:-1]"
   ],
   "metadata": {
    "collapsed": false
   }
  },
  {
   "cell_type": "code",
   "execution_count": 53,
   "outputs": [
    {
     "name": "stdout",
     "output_type": "stream",
     "text": [
      "(30211,)\n",
      "(30211,)\n",
      "(30211, 124)\n"
     ]
    }
   ],
   "source": [
    "print(train_labels.shape)\n",
    "print(train_categories.shape)\n",
    "print(train_data.shape)"
   ],
   "metadata": {
    "collapsed": false
   }
  },
  {
   "cell_type": "code",
   "execution_count": 54,
   "outputs": [
    {
     "name": "stderr",
     "output_type": "stream",
     "text": [
      "C:\\Users\\drago\\anaconda3\\envs\\Abnormal-Trajectory-Detection\\lib\\site-packages\\sklearn\\preprocessing\\_encoders.py:868: FutureWarning: `sparse` was renamed to `sparse_output` in version 1.2 and will be removed in 1.4. `sparse_output` is ignored unless you leave `sparse` to its default value.\n",
      "  warnings.warn(\n",
      "C:\\Users\\drago\\anaconda3\\envs\\Abnormal-Trajectory-Detection\\lib\\site-packages\\sklearn\\preprocessing\\_encoders.py:868: FutureWarning: `sparse` was renamed to `sparse_output` in version 1.2 and will be removed in 1.4. `sparse_output` is ignored unless you leave `sparse` to its default value.\n",
      "  warnings.warn(\n",
      "C:\\Users\\drago\\anaconda3\\envs\\Abnormal-Trajectory-Detection\\lib\\site-packages\\sklearn\\preprocessing\\_encoders.py:868: FutureWarning: `sparse` was renamed to `sparse_output` in version 1.2 and will be removed in 1.4. `sparse_output` is ignored unless you leave `sparse` to its default value.\n",
      "  warnings.warn(\n"
     ]
    }
   ],
   "source": [
    "# The category data needs to be one-hot encoded\n",
    "train_categories = np.reshape(train_categories, newshape=[-1, 1])\n",
    "val_categories = np.reshape(val_categories, newshape=[-1, 1])\n",
    "test_categories = np.reshape(test_categories, newshape=[-1, 1])\n",
    "\n",
    "one_hot_encoder = OneHotEncoder(sparse=False)\n",
    "one_hot_encoder.fit(train_categories)\n",
    "one_hot_encoder.fit(val_categories)\n",
    "one_hot_encoder.fit(test_categories)\n",
    "\n",
    "train_categories = one_hot_encoder.transform(train_categories)\n",
    "val_categories = one_hot_encoder.transform(val_categories)\n",
    "test_categories = one_hot_encoder.transform(test_categories)"
   ],
   "metadata": {
    "collapsed": false
   }
  },
  {
   "cell_type": "code",
   "execution_count": 55,
   "outputs": [
    {
     "data": {
      "text/plain": "(30211, 2)"
     },
     "execution_count": 55,
     "metadata": {},
     "output_type": "execute_result"
    }
   ],
   "source": [
    "train_categories.shape"
   ],
   "metadata": {
    "collapsed": false
   }
  },
  {
   "cell_type": "code",
   "execution_count": 56,
   "outputs": [
    {
     "data": {
      "text/plain": "(30211, 4, 31)"
     },
     "execution_count": 56,
     "metadata": {},
     "output_type": "execute_result"
    }
   ],
   "source": [
    "# The trajectory data however needs to be reshaped into data containing 31 timesteps for 4 features.\n",
    "# The trajectory features are the x and y location, and the x and y velocities over 31 timesteps\n",
    "\n",
    "features = 4\n",
    "timesteps = int(data.shape[1] / features)\n",
    "\n",
    "train_data = np.transpose(np.reshape(train_data, newshape=[-1, timesteps, features]), axes=[0, 2, 1])\n",
    "val_data = np.transpose(np.reshape(val_data, newshape=[-1, timesteps, features]), axes=[0, 2, 1])\n",
    "test_data = np.transpose(np.reshape(test_data, newshape=[-1, timesteps, features]), axes=[0, 2, 1])\n",
    "\n",
    "train_data.shape"
   ],
   "metadata": {
    "collapsed": false
   }
  },
  {
   "cell_type": "code",
   "execution_count": 57,
   "outputs": [
    {
     "data": {
      "text/plain": "(30211,)"
     },
     "execution_count": 57,
     "metadata": {},
     "output_type": "execute_result"
    }
   ],
   "source": [
    "train_labels.shape"
   ],
   "metadata": {
    "collapsed": false
   }
  },
  {
   "cell_type": "code",
   "execution_count": 58,
   "outputs": [],
   "source": [
    "bool_train_labels = train_labels != 0\n",
    "\n",
    "pos_features = train_data[bool_train_labels]\n",
    "neg_features = train_data[~bool_train_labels]\n",
    "\n",
    "pos_labels = train_labels[bool_train_labels]\n",
    "neg_labels = train_labels[~bool_train_labels]\n",
    "\n",
    "pos_categories = train_categories[bool_train_labels]\n",
    "neg_categories = train_categories[~bool_train_labels]"
   ],
   "metadata": {
    "collapsed": false
   }
  },
  {
   "cell_type": "code",
   "execution_count": 59,
   "outputs": [
    {
     "data": {
      "text/plain": "(29070, 4, 31)"
     },
     "execution_count": 59,
     "metadata": {},
     "output_type": "execute_result"
    }
   ],
   "source": [
    "ids = np.arange(len(neg_features))\n",
    "choices = np.random.choice(ids, len(pos_features))\n",
    "\n",
    "res_neg_features = neg_features[choices]\n",
    "res_neg_labels = neg_labels[choices]\n",
    "res_neg_categories = neg_categories[choices]\n",
    "\n",
    "res_neg_features.shape"
   ],
   "metadata": {
    "collapsed": false
   }
  },
  {
   "cell_type": "code",
   "execution_count": 60,
   "outputs": [
    {
     "name": "stdout",
     "output_type": "stream",
     "text": [
      "(58140, 4, 31)\n",
      "(58140,)\n",
      "(58140, 2)\n"
     ]
    }
   ],
   "source": [
    "resampled_features = np.concatenate([res_neg_features, pos_features], axis=0)\n",
    "resampled_labels = np.concatenate([res_neg_labels, pos_labels], axis=0)\n",
    "resampled_categories = np.concatenate([res_neg_categories, pos_categories], axis=0)\n",
    "\n",
    "order = np.arange(len(resampled_labels))\n",
    "np.random.shuffle(order)\n",
    "resampled_features = resampled_features[order]\n",
    "resampled_labels = resampled_labels[order]\n",
    "resampled_categories = resampled_categories[order]\n",
    "\n",
    "print(resampled_features.shape)\n",
    "print(resampled_labels.shape)\n",
    "print(resampled_categories.shape)"
   ],
   "metadata": {
    "collapsed": false
   }
  },
  {
   "cell_type": "code",
   "execution_count": 61,
   "outputs": [
    {
     "data": {
      "text/plain": "709.0"
     },
     "execution_count": 61,
     "metadata": {},
     "output_type": "execute_result"
    }
   ],
   "source": [
    "BATCH_SIZE=128\n",
    "\n",
    "resampled_steps_per_epoch = np.ceil(2.0*pos.numpy()/BATCH_SIZE)\n",
    "resampled_steps_per_epoch"
   ],
   "metadata": {
    "collapsed": false
   }
  },
  {
   "cell_type": "code",
   "execution_count": 62,
   "outputs": [],
   "source": [
    "# Now to define the network\n",
    "\n",
    "# Trajectory data\n",
    "trajectory_input_shape = resampled_features.shape[1:]\n",
    "units = 100\n",
    "trajectory_input = Input(shape=trajectory_input_shape)\n",
    "trajectory_output = LSTM(units)(trajectory_input)\n",
    "\n",
    "# Category data\n",
    "category_input = Input(shape=resampled_categories.shape[1:])\n",
    "\n",
    "# Merge and add dense layer\n",
    "merge_layer = concatenate([category_input, trajectory_output])\n",
    "main_output = Dense(units=1,activation=\"sigmoid\")(merge_layer)\n",
    "\n",
    "# Define the model with two inputs\n",
    "model = Model(inputs=[trajectory_input, category_input], outputs=[main_output])"
   ],
   "metadata": {
    "collapsed": false
   }
  },
  {
   "cell_type": "code",
   "execution_count": 63,
   "outputs": [],
   "source": [
    "METRICS = [\n",
    "      metrics.TruePositives(name='tp'),\n",
    "      metrics.FalsePositives(name='fp'),\n",
    "      metrics.TrueNegatives(name='tn'),\n",
    "      metrics.FalseNegatives(name='fn'),\n",
    "      metrics.BinaryAccuracy(name='accuracy')\n",
    "]\n",
    "\n",
    "model.compile(\n",
    "    optimizer=optimizers.Adam(),\n",
    "    loss=losses.BinaryCrossentropy(),\n",
    "    metrics=METRICS\n",
    ")"
   ],
   "metadata": {
    "collapsed": false
   }
  },
  {
   "cell_type": "code",
   "execution_count": 64,
   "outputs": [
    {
     "name": "stdout",
     "output_type": "stream",
     "text": [
      "Epoch 1/10\n",
      "709/709 [==============================] - 9s 10ms/step - loss: 0.1140 - tp: 27597.0000 - fp: 646.0000 - tn: 28743.0000 - fn: 1818.0000 - accuracy: 0.9581 - val_loss: 0.0525 - val_tp: 7151.0000 - val_fp: 1.0000 - val_tn: 309.0000 - val_fn: 92.0000 - val_accuracy: 0.9877\n",
      "Epoch 2/10\n",
      "709/709 [==============================] - 6s 9ms/step - loss: 0.0139 - tp: 29244.0000 - fp: 36.0000 - tn: 29380.0000 - fn: 144.0000 - accuracy: 0.9969 - val_loss: 0.0032 - val_tp: 7243.0000 - val_fp: 0.0000e+00 - val_tn: 310.0000 - val_fn: 0.0000e+00 - val_accuracy: 1.0000\n",
      "Epoch 3/10\n",
      "709/709 [==============================] - 6s 9ms/step - loss: 0.0019 - tp: 29410.0000 - fp: 1.0000 - tn: 29392.0000 - fn: 1.0000 - accuracy: 1.0000 - val_loss: 5.0427e-04 - val_tp: 7243.0000 - val_fp: 0.0000e+00 - val_tn: 310.0000 - val_fn: 0.0000e+00 - val_accuracy: 1.0000\n",
      "Epoch 4/10\n",
      "709/709 [==============================] - 6s 9ms/step - loss: 5.8884e-04 - tp: 29411.0000 - fp: 0.0000e+00 - tn: 29393.0000 - fn: 0.0000e+00 - accuracy: 1.0000 - val_loss: 3.6835e-04 - val_tp: 7243.0000 - val_fp: 0.0000e+00 - val_tn: 310.0000 - val_fn: 0.0000e+00 - val_accuracy: 1.0000\n",
      "Epoch 5/10\n",
      "709/709 [==============================] - 6s 9ms/step - loss: 4.0570e-04 - tp: 29373.0000 - fp: 1.0000 - tn: 29430.0000 - fn: 0.0000e+00 - accuracy: 1.0000 - val_loss: 1.9070e-04 - val_tp: 7243.0000 - val_fp: 0.0000e+00 - val_tn: 310.0000 - val_fn: 0.0000e+00 - val_accuracy: 1.0000\n",
      "Epoch 6/10\n",
      "709/709 [==============================] - 7s 10ms/step - loss: 1.3364e-04 - tp: 29441.0000 - fp: 0.0000e+00 - tn: 29363.0000 - fn: 0.0000e+00 - accuracy: 1.0000 - val_loss: 1.1471e-04 - val_tp: 7243.0000 - val_fp: 0.0000e+00 - val_tn: 310.0000 - val_fn: 0.0000e+00 - val_accuracy: 1.0000\n",
      "Epoch 7/10\n",
      "709/709 [==============================] - 7s 10ms/step - loss: 8.1358e-05 - tp: 29326.0000 - fp: 0.0000e+00 - tn: 29478.0000 - fn: 0.0000e+00 - accuracy: 1.0000 - val_loss: 9.0184e-05 - val_tp: 7243.0000 - val_fp: 0.0000e+00 - val_tn: 310.0000 - val_fn: 0.0000e+00 - val_accuracy: 1.0000\n",
      "Epoch 8/10\n",
      "709/709 [==============================] - 7s 10ms/step - loss: 4.8337e-05 - tp: 29445.0000 - fp: 0.0000e+00 - tn: 29359.0000 - fn: 0.0000e+00 - accuracy: 1.0000 - val_loss: 7.4144e-05 - val_tp: 7243.0000 - val_fp: 0.0000e+00 - val_tn: 310.0000 - val_fn: 0.0000e+00 - val_accuracy: 1.0000\n",
      "Epoch 9/10\n",
      "709/709 [==============================] - 7s 9ms/step - loss: 3.3053e-05 - tp: 29416.0000 - fp: 0.0000e+00 - tn: 29388.0000 - fn: 0.0000e+00 - accuracy: 1.0000 - val_loss: 4.2275e-05 - val_tp: 7243.0000 - val_fp: 0.0000e+00 - val_tn: 310.0000 - val_fn: 0.0000e+00 - val_accuracy: 1.0000\n",
      "Epoch 10/10\n",
      "629/709 [=========================>....] - ETA: 0s - loss: 2.2114e-05 - tp: 26074.0000 - fp: 0.0000e+00 - tn: 26090.0000 - fn: 0.0000e+00 - accuracy: 1.0000WARNING:tensorflow:Your input ran out of data; interrupting training. Make sure that your dataset or generator can generate at least `steps_per_epoch * epochs` batches (in this case, 7090.0 batches). You may need to use the repeat() function when building your dataset.\n",
      "709/709 [==============================] - 7s 10ms/step - loss: 2.2114e-05 - tp: 26074.0000 - fp: 0.0000e+00 - tn: 26090.0000 - fn: 0.0000e+00 - accuracy: 1.0000 - val_loss: 4.1325e-05 - val_tp: 7243.0000 - val_fp: 0.0000e+00 - val_tn: 310.0000 - val_fn: 0.0000e+00 - val_accuracy: 1.0000\n"
     ]
    }
   ],
   "source": [
    "EPOCHS = 10\n",
    "\n",
    "resampled_history = model.fit(\n",
    "    [resampled_features, resampled_categories],\n",
    "    resampled_labels,\n",
    "    # These are not real epochs\n",
    "    steps_per_epoch=resampled_steps_per_epoch,\n",
    "    epochs=EPOCHS,\n",
    "    validation_data=([val_data, val_categories], val_labels))"
   ],
   "metadata": {
    "collapsed": false
   }
  },
  {
   "cell_type": "code",
   "execution_count": 65,
   "outputs": [],
   "source": [
    "colors = plt.rcParams['axes.prop_cycle'].by_key()['color']\n",
    "\n",
    "def plot_metrics(history):\n",
    "  metrics = ['loss', 'accuracy']\n",
    "  for n, metric in enumerate(metrics):\n",
    "    name = metric.replace(\"_\",\" \").capitalize()\n",
    "    plt.subplot(2,2,n+1)\n",
    "    plt.plot(history.epoch, history.history[metric], color=colors[0], label='Train')\n",
    "    plt.plot(history.epoch, history.history['val_'+metric],\n",
    "             color=colors[0], linestyle=\"--\", label='Val')\n",
    "    plt.xlabel('Epoch')\n",
    "    plt.ylabel(name)\n",
    "    if metric == 'loss':\n",
    "      plt.ylim([0, plt.ylim()[1]])\n",
    "    elif metric == 'auc':\n",
    "      plt.ylim([0.8,1])\n",
    "    else:\n",
    "      plt.ylim([0,1])\n",
    "\n",
    "    plt.legend()"
   ],
   "metadata": {
    "collapsed": false
   }
  },
  {
   "cell_type": "code",
   "execution_count": 66,
   "outputs": [
    {
     "data": {
      "text/plain": "<Figure size 640x480 with 2 Axes>",
      "image/png": "[encoded data removed]"
     },
     "metadata": {},
     "output_type": "display_data"
    }
   ],
   "source": [
    "plot_metrics(resampled_history)"
   ],
   "metadata": {
    "collapsed": false
   }
  },
  {
   "cell_type": "code",
   "execution_count": 67,
   "outputs": [],
   "source": [
    "resampled_results = model.evaluate([test_data, test_categories], test_labels, batch_size=BATCH_SIZE, verbose=0)"
   ],
   "metadata": {
    "collapsed": false
   }
  },
  {
   "cell_type": "code",
   "execution_count": 68,
   "outputs": [
    {
     "name": "stdout",
     "output_type": "stream",
     "text": [
      "loss :  2.4158693122444674e-05\n",
      "tp :  9028.0\n",
      "fp :  0.0\n",
      "tn :  413.0\n",
      "fn :  0.0\n",
      "accuracy :  1.0\n",
      "\n"
     ]
    }
   ],
   "source": [
    "for name, value in zip(model.metrics_names, resampled_results):\n",
    "  print(name, ': ', value)\n",
    "print()"
   ],
   "metadata": {
    "collapsed": false
   }
  },
  {
   "cell_type": "code",
   "execution_count": 69,
   "outputs": [],
   "source": [
    "def plot_cm(labels, predictions, p=0.5):\n",
    "  cm = confusion_matrix(labels, predictions > p)\n",
    "  plt.figure(figsize=(5,5))\n",
    "  sns.heatmap(cm, annot=True, fmt=\"d\")\n",
    "  plt.title('Confusion matrix @{:.2f}'.format(p))\n",
    "  plt.ylabel('Actual label')\n",
    "  plt.xlabel('Predicted label')"
   ],
   "metadata": {
    "collapsed": false
   }
  },
  {
   "cell_type": "code",
   "execution_count": 70,
   "outputs": [
    {
     "name": "stdout",
     "output_type": "stream",
     "text": [
      "74/74 [==============================] - 0s 2ms/step\n"
     ]
    }
   ],
   "source": [
    "test_predictions = model.predict([test_data, test_categories], batch_size=BATCH_SIZE)"
   ],
   "metadata": {
    "collapsed": false
   }
  },
  {
   "cell_type": "code",
   "execution_count": 71,
   "outputs": [
    {
     "data": {
      "text/plain": "<Figure size 500x500 with 2 Axes>",
      "image/png": "[encoded data removed]"
     },
     "metadata": {},
     "output_type": "display_data"
    }
   ],
   "source": [
    "plot_cm(test_labels, test_predictions)"
   ],
   "metadata": {
    "collapsed": false
   }
  }
 ],
 "metadata": {
  "kernelspec": {
   "display_name": "Python 3",
   "language": "python",
   "name": "python3"
  },
  "language_info": {
   "codemirror_mode": {
    "name": "ipython",
    "version": 2
   },
   "file_extension": ".py",
   "mimetype": "text/x-python",
   "name": "python",
   "nbconvert_exporter": "python",
   "pygments_lexer": "ipython2",
   "version": "2.7.6"
  }
 },
 "nbformat": 4,
 "nbformat_minor": 0
}
