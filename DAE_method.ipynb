{
 "cells": [
  {
   "cell_type": "code",
   "execution_count": 78,
   "metadata": {
    "collapsed": true
   },
   "outputs": [],
   "source": [
    "import numpy as np\n",
    "import torch\n",
    "import torch.nn as nn\n",
    "from torchvision import datasets, transforms\n",
    "from sklearn.preprocessing import MinMaxScaler\n",
    "from sklearn.model_selection import train_test_split, KFold\n",
    "from sklearn.metrics import mean_squared_error\n",
    "from torch.utils.data import random_split, SubsetRandomSampler, DataLoader\n",
    "import matplotlib.pyplot as plt"
   ]
  },
  {
   "cell_type": "code",
   "execution_count": 6,
   "outputs": [],
   "source": [
    "DATASET_NAME = \"sherbrooke\""
   ],
   "metadata": {
    "collapsed": false
   }
  },
  {
   "cell_type": "code",
   "execution_count": 7,
   "outputs": [
    {
     "name": "stdout",
     "output_type": "stream",
     "text": [
      "Normal data shape: (20606, 125)\n",
      "Abnormal data shape: (186, 125)\n",
      "Real abnormal data shape: (406, 125)\n"
     ]
    }
   ],
   "source": [
    "# Create normal trajectories dataset\n",
    "normal_data_file = f\"./data/augmented/{DATASET_NAME}/{DATASET_NAME}_gt_data.csv\"\n",
    "normal_data = np.genfromtxt(normal_data_file, delimiter=',')\n",
    "# Remove the first column, which is the object_id\n",
    "normal_data = normal_data[:, 1:]\n",
    "print(f\"Normal data shape: {normal_data.shape}\")\n",
    "\n",
    "# Create the generated abnormal dataset\n",
    "abnormal_data_file = f\"./data/augmented/{DATASET_NAME}/{DATASET_NAME}_gt_abnormal.csv\"\n",
    "abnormal_data = np.genfromtxt(abnormal_data_file, delimiter=',')\n",
    "# Remove the first column, which is the object_id\n",
    "abnormal_data = abnormal_data[:, 1:]\n",
    "print(f\"Abnormal data shape: {abnormal_data.shape}\")\n",
    "\n",
    "# Create the real abnormal datasets\n",
    "real_abnormal_file = f\"./data/augmented/{DATASET_NAME}/{DATASET_NAME}_gt_real_abnormal.csv\"\n",
    "real_abnormal_file_2 = f\"./data/augmented/{DATASET_NAME}/{DATASET_NAME}_gt_real_abnormal_2.csv\"\n",
    "real_abnormal_data = np.genfromtxt(real_abnormal_file, delimiter=',')\n",
    "real_abnormal_data_2 = np.genfromtxt(real_abnormal_file_2, delimiter=',')\n",
    "# Remove the first column, which is the object_id\n",
    "real_abnormal_data = real_abnormal_data[:, 1:]\n",
    "real_abnormal_data_2 = real_abnormal_data_2[:, 1:]\n",
    "print(f\"Real abnormal data shape: {real_abnormal_data.shape}\")"
   ],
   "metadata": {
    "collapsed": false
   }
  },
  {
   "cell_type": "code",
   "execution_count": 73,
   "outputs": [],
   "source": [
    "# Define the DAE\n",
    "class DAE(nn.Module):\n",
    "    def __init__(self,\n",
    "                 input_size,\n",
    "                 hidden_layers=(16,),\n",
    "                 hidden_activation=nn.ReLU,\n",
    "                 output_activation=nn.Sigmoid\n",
    "                 ):\n",
    "        super(DAE, self).__init__()\n",
    "        self.input_size = input_size\n",
    "        self.hidden_layers = hidden_layers\n",
    "        self.hidden_activation = hidden_activation\n",
    "        self.output_activation = output_activation\n",
    "\n",
    "        # Add the encoding layers\n",
    "        self.encoded = self.create_layers(hidden_layers, input_size)\n",
    "\n",
    "        # Add the decoding layers with the output activation function\n",
    "        self.decoded = self.create_layers(hidden_layers[-2::-1], hidden_layers[-1])\n",
    "        self.decoded.append(nn.Linear(hidden_layers[0], input_size))\n",
    "        self.decoded.append(self.output_activation())\n",
    "\n",
    "    def create_layers(self, design, input_size):\n",
    "        layers = []\n",
    "        for i, layer in enumerate(design):\n",
    "            in_features = design[i-1] if i > 0 else input_size\n",
    "            out_features = layer\n",
    "            layers.append(nn.Linear(in_features, out_features))\n",
    "            layers.append(self.hidden_activation())\n",
    "\n",
    "        return nn.Sequential(*layers)\n",
    "\n",
    "    def forward(self, input):\n",
    "        encoded = self.encoded(input)\n",
    "        # print(self.decoded)\n",
    "        decoded = self.decoded(encoded)\n",
    "        return decoded"
   ],
   "metadata": {
    "collapsed": false
   }
  },
  {
   "cell_type": "code",
   "execution_count": 81,
   "outputs": [],
   "source": [
    "BATCH_SIZE = 128\n",
    "DEVICE = torch.device(\"cuda:0\" if torch.cuda.is_available() else \"cpu\")\n",
    "# Scale the data\n",
    "scaler = MinMaxScaler()\n",
    "train_data_scaled = scaler.fit_transform(normal_data)\n",
    "train_data_scaled = torch.from_numpy(train_data_scaled).to(DEVICE, dtype=torch.float32)\n",
    "\n",
    "# Create the KFold object for cross validation\n",
    "folds = 10\n",
    "splits = KFold(n_splits=folds, shuffle=True, random_state=42)\n",
    "\n",
    "# Split into training and validation\n",
    "# train_data_scaled, validation_data_scaled = train_test_split(train_data_scaled, test_size=0.2)\n",
    "# train_data_scaled = torch.from_numpy(train_data_scaled)\n",
    "# validation_data_scaled = torch.from_numpy(validation_data_scaled)\n",
    "\n",
    "# train_dataloader = torch.utils.data.DataLoader(train_data_scaled, batch_size=BATCH_SIZE, shuffle=True)\n",
    "# validation_dataloader = torch.utils.data.DataLoader(validation_data_scaled, batch_size=BATCH_SIZE, shuffle=True)"
   ],
   "metadata": {
    "collapsed": false
   }
  },
  {
   "cell_type": "code",
   "execution_count": 72,
   "outputs": [
    {
     "name": "stdout",
     "output_type": "stream",
     "text": [
      "(16, 32, 64, 128)\n",
      "Sequential()\n"
     ]
    }
   ],
   "source": [
    "hidden_layers = (128,64,32,16,8)\n",
    "print(hidden_layers[-2::-1])\n",
    "# Define the model\n",
    "model = DAE(input_size=train_data_scaled.shape[1], hidden_layers=hidden_layers).to(DEVICE)"
   ],
   "metadata": {
    "collapsed": false
   }
  },
  {
   "cell_type": "code",
   "execution_count": 82,
   "outputs": [
    {
     "name": "stdout",
     "output_type": "stream",
     "text": [
      "cpu\n"
     ]
    }
   ],
   "source": [
    "print(DEVICE)"
   ],
   "metadata": {
    "collapsed": false
   }
  },
  {
   "cell_type": "code",
   "execution_count": 75,
   "outputs": [
    {
     "name": "stdout",
     "output_type": "stream",
     "text": [
      "Training the deep autoencoder\n",
      "Sequential(\n",
      "  (0): Linear(in_features=8, out_features=16, bias=True)\n",
      "  (1): ReLU()\n",
      "  (2): Linear(in_features=16, out_features=32, bias=True)\n",
      "  (3): ReLU()\n",
      "  (4): Linear(in_features=32, out_features=64, bias=True)\n",
      "  (5): ReLU()\n",
      "  (6): Linear(in_features=64, out_features=128, bias=True)\n",
      "  (7): ReLU()\n",
      ")\n",
      "Fold 1\n",
      "Epoch 0\n",
      "Train loss: 0.02086138352751732\n",
      "Validation loss: 0.011906358413398266\n",
      "Epoch 1\n",
      "Train loss: 0.01186604704707861\n",
      "Validation loss: 0.012391566298902035\n",
      "Fold 2\n",
      "Epoch 0\n",
      "Train loss: 0.01181076467037201\n",
      "Validation loss: 0.009202748537063599\n",
      "Epoch 1\n",
      "Train loss: 0.010034952312707901\n",
      "Validation loss: 0.008614448830485344\n",
      "Fold 3\n",
      "Epoch 0\n",
      "Train loss: 0.009441942907869816\n",
      "Validation loss: 0.017600681632757187\n",
      "Epoch 1\n",
      "Train loss: 0.008953096345067024\n",
      "Validation loss: 0.008304408751428127\n",
      "Fold 4\n",
      "Epoch 0\n",
      "Train loss: 0.008884078823029995\n",
      "Validation loss: 0.007960272952914238\n",
      "Epoch 1\n",
      "Train loss: 0.0087712612003088\n",
      "Validation loss: 0.014053992927074432\n",
      "Fold 5\n",
      "Epoch 0\n",
      "Train loss: 0.008696187287569046\n",
      "Validation loss: 0.008464825339615345\n",
      "Epoch 1\n",
      "Train loss: 0.008383550681173801\n",
      "Validation loss: 0.007563896011561155\n"
     ]
    }
   ],
   "source": [
    "print(\"Training the deep autoencoder\")\n",
    "# Define hyperparameters\n",
    "EPOCHS = 100\n",
    "HIDDEN_LAYERS = (16,)\n",
    "criterion = nn.MSELoss()\n",
    "hidden_layers = (128,64,32,16,8)\n",
    "\n",
    "# Define the model\n",
    "model = DAE(input_size=train_data_scaled.shape[1], hidden_layers=hidden_layers).to(DEVICE)\n",
    "optimizer = torch.optim.RMSprop(model.parameters())\n",
    "\n",
    "\n",
    "history = {\n",
    "    'train': [],\n",
    "    'val': []\n",
    "}\n",
    "\n",
    "for fold, (train_idx, val_idx) in enumerate(splits.split(train_data_scaled)):\n",
    "    print(f\"Fold {fold+1}\")\n",
    "    train_sampler = SubsetRandomSampler(train_idx)\n",
    "    validation_sampler = SubsetRandomSampler(val_idx)\n",
    "    train_dataloader = DataLoader(train_data_scaled, batch_size=BATCH_SIZE, sampler=train_sampler)\n",
    "    validation_dataloader = DataLoader(train_data_scaled, batch_size=BATCH_SIZE, sampler=validation_sampler)\n",
    "\n",
    "    # Train the model on the scaled data\n",
    "    for epoch in range(EPOCHS):\n",
    "        print(f\"Epoch {epoch}\")\n",
    "        total_train_loss = 0\n",
    "        total_validation_loss = 0\n",
    "        for i, trajectories in enumerate(train_dataloader):\n",
    "            trajectories = trajectories.to(DEVICE, dtype=torch.float32)\n",
    "            # print(type(trajectories[0]))\n",
    "\n",
    "            # Forward pass\n",
    "            model.zero_grad()\n",
    "            output = model(trajectories)\n",
    "            loss = criterion(output, trajectories)\n",
    "            total_train_loss += loss / len(train_dataloader)\n",
    "\n",
    "            # Backward pass\n",
    "            loss.backward()\n",
    "            optimizer.step()\n",
    "        print(f\"Train loss: {total_train_loss}\")\n",
    "        history['train'].append(total_train_loss)\n",
    "\n",
    "        # Evaluate model at this epoch\n",
    "        model.eval()\n",
    "        with torch.no_grad():\n",
    "            for i, trajectories in enumerate(validation_dataloader):\n",
    "                trajectories = trajectories.to(DEVICE, dtype=torch.float32)\n",
    "                output = model(trajectories)\n",
    "                loss = criterion(output, trajectories)\n",
    "\n",
    "                total_validation_loss += loss / len(validation_dataloader)\n",
    "        print(f\"Validation loss: {total_validation_loss}\")\n",
    "        history['val'].append(total_validation_loss)\n",
    "        model.train()"
   ],
   "metadata": {
    "collapsed": false
   }
  },
  {
   "cell_type": "code",
   "execution_count": 80,
   "outputs": [
    {
     "data": {
      "text/plain": "<Figure size 640x480 with 1 Axes>",
      "image/png": "[encoded data removed]"
     },
     "metadata": {},
     "output_type": "display_data"
    }
   ],
   "source": [
    "with torch.no_grad():\n",
    "    plt.title(\"Training curve\")\n",
    "    plt.plot(range(len(history['train'])),history['train'],'r')\n",
    "    plt.plot(range(len(history['val'])),history['val'],'g')\n",
    "    plt.xlabel(\"Epoch\")\n",
    "    plt.ylabel(\"Loss\")\n",
    "    plt.show()"
   ],
   "metadata": {
    "collapsed": false
   }
  },
  {
   "cell_type": "code",
   "execution_count": 41,
   "outputs": [
    {
     "name": "stdout",
     "output_type": "stream",
     "text": [
      "0.0021303222\n"
     ]
    }
   ],
   "source": [
    "# Evaluate the model\n",
    "model.eval()\n",
    "with torch.no_grad():\n",
    "    predicted_train_data = model(train_data_scaled)\n",
    "    assert predicted_train_data.shape == train_data_scaled.shape, \"The predicted data shape is not right!\"\n",
    "    mse_per_sample = [mean_squared_error(train_data_scaled[i], predicted_train_data[i]) for i in range(train_data_scaled.shape[0])]\n",
    "    train_score = np.mean(mse_per_sample)\n",
    "    print(f\"Train score: {train_score}\")\n",
    "\n",
    "    predicted_validation_data = model(validation_data_scaled)"
   ],
   "metadata": {
    "collapsed": false
   }
  },
  {
   "cell_type": "code",
   "execution_count": null,
   "outputs": [],
   "source": [],
   "metadata": {
    "collapsed": false
   }
  }
 ],
 "metadata": {
  "kernelspec": {
   "display_name": "Python 3",
   "language": "python",
   "name": "python3"
  },
  "language_info": {
   "codemirror_mode": {
    "name": "ipython",
    "version": 2
   },
   "file_extension": ".py",
   "mimetype": "text/x-python",
   "name": "python",
   "nbconvert_exporter": "python",
   "pygments_lexer": "ipython2",
   "version": "2.7.6"
  }
 },
 "nbformat": 4,
 "nbformat_minor": 0
}
