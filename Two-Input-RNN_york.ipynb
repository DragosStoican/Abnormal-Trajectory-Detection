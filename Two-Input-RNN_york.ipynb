{
 "cells": [
  {
   "cell_type": "code",
   "execution_count": 1,
   "metadata": {
    "collapsed": true
   },
   "outputs": [
    {
     "name": "stderr",
     "output_type": "stream",
     "text": [
      "C:\\Users\\drago\\anaconda3\\envs\\Abnormal-Trajectory-Detection\\lib\\site-packages\\requests\\__init__.py:109: RequestsDependencyWarning: urllib3 (1.26.15) or chardet (None)/charset_normalizer (3.1.0) doesn't match a supported version!\n",
      "  warnings.warn(\n"
     ]
    },
    {
     "name": "stdout",
     "output_type": "stream",
     "text": [
      "[PhysicalDevice(name='/physical_device:GPU:0', device_type='GPU')]\n"
     ]
    }
   ],
   "source": [
    "from data_processing import get_data\n",
    "import tensorflow as tf\n",
    "import numpy as np\n",
    "from sklearn.preprocessing import OneHotEncoder\n",
    "from sklearn.model_selection import train_test_split\n",
    "from sklearn.metrics import confusion_matrix\n",
    "import seaborn as sns\n",
    "from keras.layers import Input, LSTM, Dense, concatenate\n",
    "from keras import Model, optimizers, losses, metrics\n",
    "import matplotlib.pyplot as plt\n",
    "\n",
    "print(tf.config.list_physical_devices('GPU'))"
   ]
  },
  {
   "cell_type": "code",
   "execution_count": 2,
   "outputs": [
    {
     "name": "stdout",
     "output_type": "stream",
     "text": [
      "Normal data shape: (8200, 101)\n",
      "Abnormal data shape: (1620, 101)\n",
      "Real abnormal data shape: (2, 1)\n",
      "Real abnormal data 2 shape: (2, 1)\n"
     ]
    },
    {
     "name": "stderr",
     "output_type": "stream",
     "text": [
      "C:\\Users\\drago\\anaconda3\\envs\\Abnormal-Trajectory-Detection\\lib\\site-packages\\sklearn\\preprocessing\\_data.py:473: RuntimeWarning: All-NaN slice encountered\n",
      "  data_min = np.nanmin(X, axis=0)\n",
      "C:\\Users\\drago\\anaconda3\\envs\\Abnormal-Trajectory-Detection\\lib\\site-packages\\sklearn\\preprocessing\\_data.py:474: RuntimeWarning: All-NaN slice encountered\n",
      "  data_max = np.nanmax(X, axis=0)\n",
      "C:\\Users\\drago\\anaconda3\\envs\\Abnormal-Trajectory-Detection\\lib\\site-packages\\sklearn\\preprocessing\\_data.py:473: RuntimeWarning: All-NaN slice encountered\n",
      "  data_min = np.nanmin(X, axis=0)\n",
      "C:\\Users\\drago\\anaconda3\\envs\\Abnormal-Trajectory-Detection\\lib\\site-packages\\sklearn\\preprocessing\\_data.py:474: RuntimeWarning: All-NaN slice encountered\n",
      "  data_max = np.nanmax(X, axis=0)\n"
     ]
    }
   ],
   "source": [
    "normal_data, abnormal_data, _, _ = get_data(\"york\")"
   ],
   "metadata": {
    "collapsed": false
   }
  },
  {
   "cell_type": "code",
   "execution_count": 3,
   "outputs": [],
   "source": [
    "# Transform torch tensors to keras tensors\n",
    "normal_data = tf.convert_to_tensor(normal_data)\n",
    "abnormal_data = tf.convert_to_tensor(abnormal_data)"
   ],
   "metadata": {
    "collapsed": false
   }
  },
  {
   "cell_type": "code",
   "execution_count": 4,
   "outputs": [
    {
     "data": {
      "text/plain": "TensorShape([9820, 101])"
     },
     "execution_count": 4,
     "metadata": {},
     "output_type": "execute_result"
    }
   ],
   "source": [
    "data = tf.concat([normal_data, abnormal_data], 0)\n",
    "data.shape"
   ],
   "metadata": {
    "collapsed": false
   }
  },
  {
   "cell_type": "code",
   "execution_count": 5,
   "outputs": [
    {
     "data": {
      "text/plain": "(9820, 1)"
     },
     "execution_count": 5,
     "metadata": {},
     "output_type": "execute_result"
    }
   ],
   "source": [
    "# Create the labels, since we will be doing supervised learning. 1 represents a normal trajectory, 0 is abnormal\n",
    "labels = np.concatenate([\n",
    "    np.ones(normal_data.shape[0]),\n",
    "    np.zeros(abnormal_data.shape[0])\n",
    "], 0)\n",
    "\n",
    "labels = np.reshape(labels, [-1, 1])\n",
    "labels.shape"
   ],
   "metadata": {
    "collapsed": false
   }
  },
  {
   "cell_type": "code",
   "execution_count": 6,
   "outputs": [
    {
     "name": "stdout",
     "output_type": "stream",
     "text": [
      "Examples:\n",
      "    Total: 9820\n",
      "    Normal: 8200 (83.50% of total)\n",
      "\n"
     ]
    }
   ],
   "source": [
    "# Let's see the distribution of normal and abnormal data\n",
    "neg, pos = tf.math.bincount(labels)\n",
    "total = neg + pos\n",
    "print('Examples:\\n    Total: {}\\n    Normal: {} ({:.2f}% of total)\\n'.format(\n",
    "    total, pos, 100 * pos / total))"
   ],
   "metadata": {
    "collapsed": false
   }
  },
  {
   "cell_type": "code",
   "execution_count": 7,
   "outputs": [
    {
     "data": {
      "text/plain": "TensorShape([9820, 102])"
     },
     "execution_count": 7,
     "metadata": {},
     "output_type": "execute_result"
    }
   ],
   "source": [
    "data = tf.concat([data, labels], 1)\n",
    "data.shape"
   ],
   "metadata": {
    "collapsed": false
   }
  },
  {
   "cell_type": "code",
   "execution_count": 8,
   "outputs": [],
   "source": [
    "train_data, test_data = train_test_split(data.numpy(), test_size=0.2)\n",
    "train_data, val_data = train_test_split(train_data, test_size=0.2)"
   ],
   "metadata": {
    "collapsed": false
   }
  },
  {
   "cell_type": "code",
   "execution_count": 9,
   "outputs": [],
   "source": [
    "train_labels = train_data[:,-1].astype('int32')\n",
    "train_categories = train_data[:,0].astype('int32')\n",
    "train_data = train_data[:,1:-1]\n",
    "\n",
    "val_labels = val_data[:,-1].astype('int32')\n",
    "val_categories = val_data[:,0].astype('int32')\n",
    "val_data = val_data[:,1:-1]\n",
    "\n",
    "test_labels = test_data[:,-1].astype('int32')\n",
    "test_categories = test_data[:,0].astype('int32')\n",
    "test_data = test_data[:,1:-1]"
   ],
   "metadata": {
    "collapsed": false
   }
  },
  {
   "cell_type": "code",
   "execution_count": 10,
   "outputs": [
    {
     "name": "stdout",
     "output_type": "stream",
     "text": [
      "(6284,)\n",
      "(6284,)\n",
      "(6284, 100)\n"
     ]
    }
   ],
   "source": [
    "print(train_labels.shape)\n",
    "print(train_categories.shape)\n",
    "print(train_data.shape)"
   ],
   "metadata": {
    "collapsed": false
   }
  },
  {
   "cell_type": "code",
   "execution_count": 10,
   "outputs": [],
   "source": [],
   "metadata": {
    "collapsed": false
   }
  },
  {
   "cell_type": "code",
   "execution_count": 11,
   "outputs": [],
   "source": [
    "# The category data needs to be one-hot encoded\n",
    "train_categories = np.reshape(train_categories, newshape=[-1, 1])\n",
    "val_categories = np.reshape(val_categories, newshape=[-1, 1])\n",
    "test_categories = np.reshape(test_categories, newshape=[-1, 1])\n",
    "\n",
    "one_hot_encoder = OneHotEncoder(sparse_output=False)\n",
    "one_hot_encoder.fit(train_categories)\n",
    "one_hot_encoder.fit(val_categories)\n",
    "one_hot_encoder.fit(test_categories)\n",
    "\n",
    "train_categories = one_hot_encoder.transform(train_categories)\n",
    "val_categories = one_hot_encoder.transform(val_categories)\n",
    "test_categories = one_hot_encoder.transform(test_categories)"
   ],
   "metadata": {
    "collapsed": false
   }
  },
  {
   "cell_type": "code",
   "execution_count": 12,
   "outputs": [
    {
     "data": {
      "text/plain": "(6284, 2)"
     },
     "execution_count": 12,
     "metadata": {},
     "output_type": "execute_result"
    }
   ],
   "source": [
    "train_categories.shape"
   ],
   "metadata": {
    "collapsed": false
   }
  },
  {
   "cell_type": "code",
   "execution_count": 13,
   "outputs": [
    {
     "data": {
      "text/plain": "(6284, 2, 50)"
     },
     "execution_count": 13,
     "metadata": {},
     "output_type": "execute_result"
    }
   ],
   "source": [
    "# The trajectory data however needs to be reshaped into data containing 50 timesteps for 2 features.\n",
    "# The trajectory features are the x and y location 50 timesteps\n",
    "\n",
    "features = 2\n",
    "timesteps = int(train_data.shape[1] / features)\n",
    "\n",
    "train_data = np.transpose(np.reshape(train_data, newshape=[-1, timesteps, features]), axes=[0, 2, 1])\n",
    "val_data = np.transpose(np.reshape(val_data, newshape=[-1, timesteps, features]), axes=[0, 2, 1])\n",
    "test_data = np.transpose(np.reshape(test_data, newshape=[-1, timesteps, features]), axes=[0, 2, 1])\n",
    "\n",
    "train_data.shape"
   ],
   "metadata": {
    "collapsed": false
   }
  },
  {
   "cell_type": "code",
   "execution_count": 14,
   "outputs": [
    {
     "data": {
      "text/plain": "(6284,)"
     },
     "execution_count": 14,
     "metadata": {},
     "output_type": "execute_result"
    }
   ],
   "source": [
    "train_labels.shape"
   ],
   "metadata": {
    "collapsed": false
   }
  },
  {
   "cell_type": "code",
   "execution_count": 15,
   "outputs": [],
   "source": [
    "bool_train_labels = train_labels != 0\n",
    "\n",
    "pos_features = train_data[bool_train_labels]\n",
    "neg_features = train_data[~bool_train_labels]\n",
    "\n",
    "pos_labels = train_labels[bool_train_labels]\n",
    "neg_labels = train_labels[~bool_train_labels]\n",
    "\n",
    "pos_categories = train_categories[bool_train_labels]\n",
    "neg_categories = train_categories[~bool_train_labels]"
   ],
   "metadata": {
    "collapsed": false
   }
  },
  {
   "cell_type": "code",
   "execution_count": 16,
   "outputs": [
    {
     "data": {
      "text/plain": "(5273, 2, 50)"
     },
     "execution_count": 16,
     "metadata": {},
     "output_type": "execute_result"
    }
   ],
   "source": [
    "ids = np.arange(len(neg_features))\n",
    "choices = np.random.choice(ids, len(pos_features))\n",
    "\n",
    "res_neg_features = neg_features[choices]\n",
    "res_neg_labels = neg_labels[choices]\n",
    "res_neg_categories = neg_categories[choices]\n",
    "\n",
    "res_neg_features.shape"
   ],
   "metadata": {
    "collapsed": false
   }
  },
  {
   "cell_type": "code",
   "execution_count": 17,
   "outputs": [
    {
     "name": "stdout",
     "output_type": "stream",
     "text": [
      "(5273, 2, 50)\n",
      "(5273, 2, 50)\n"
     ]
    }
   ],
   "source": [
    "print(res_neg_features.shape)\n",
    "print(pos_features.shape)"
   ],
   "metadata": {
    "collapsed": false
   }
  },
  {
   "cell_type": "code",
   "execution_count": 18,
   "outputs": [
    {
     "name": "stdout",
     "output_type": "stream",
     "text": [
      "(10546, 2, 50)\n",
      "(10546,)\n",
      "(10546, 2)\n"
     ]
    }
   ],
   "source": [
    "resampled_features = np.concatenate([res_neg_features, pos_features], axis=0)\n",
    "resampled_labels = np.concatenate([res_neg_labels, pos_labels], axis=0)\n",
    "resampled_categories = np.concatenate([res_neg_categories, pos_categories], axis=0)\n",
    "\n",
    "order = np.arange(len(resampled_labels))\n",
    "np.random.shuffle(order)\n",
    "resampled_features = resampled_features[order]\n",
    "resampled_labels = resampled_labels[order]\n",
    "resampled_categories = resampled_categories[order]\n",
    "\n",
    "print(resampled_features.shape)\n",
    "print(resampled_labels.shape)\n",
    "print(resampled_categories.shape)"
   ],
   "metadata": {
    "collapsed": false
   }
  },
  {
   "cell_type": "code",
   "execution_count": 19,
   "outputs": [
    {
     "data": {
      "text/plain": "129.0"
     },
     "execution_count": 19,
     "metadata": {},
     "output_type": "execute_result"
    }
   ],
   "source": [
    "BATCH_SIZE=128\n",
    "\n",
    "resampled_steps_per_epoch = np.ceil(2.0*pos.numpy()/BATCH_SIZE)\n",
    "resampled_steps_per_epoch"
   ],
   "metadata": {
    "collapsed": false
   }
  },
  {
   "cell_type": "code",
   "execution_count": 20,
   "outputs": [],
   "source": [
    "# Now to define the network\n",
    "\n",
    "# Trajectory data\n",
    "trajectory_input_shape = resampled_features.shape[1:]\n",
    "units = 100\n",
    "trajectory_input = Input(shape=trajectory_input_shape)\n",
    "trajectory_output = LSTM(units)(trajectory_input)\n",
    "\n",
    "# Category data\n",
    "category_input = Input(shape=resampled_categories.shape[1:])\n",
    "\n",
    "# Merge and add dense layer\n",
    "merge_layer = concatenate([category_input, trajectory_output])\n",
    "main_output = Dense(units=1,activation=\"sigmoid\")(merge_layer)\n",
    "\n",
    "# Define the model with two inputs\n",
    "model = Model(inputs=[trajectory_input, category_input], outputs=[main_output])"
   ],
   "metadata": {
    "collapsed": false
   }
  },
  {
   "cell_type": "code",
   "execution_count": 21,
   "outputs": [],
   "source": [
    "METRICS = [\n",
    "      metrics.TruePositives(name='tp'),\n",
    "      metrics.FalsePositives(name='fp'),\n",
    "      metrics.TrueNegatives(name='tn'),\n",
    "      metrics.FalseNegatives(name='fn'),\n",
    "      metrics.BinaryAccuracy(name='accuracy')\n",
    "]\n",
    "\n",
    "model.compile(\n",
    "    optimizer=optimizers.Adam(),\n",
    "    loss=losses.BinaryCrossentropy(),\n",
    "    metrics=METRICS\n",
    ")"
   ],
   "metadata": {
    "collapsed": false
   }
  },
  {
   "cell_type": "code",
   "execution_count": 22,
   "outputs": [
    {
     "name": "stdout",
     "output_type": "stream",
     "text": [
      "Epoch 1/20\n",
      "129/129 [==============================] - 4s 14ms/step - loss: 0.6369 - tp: 3562.0000 - fp: 2240.0000 - tn: 3033.0000 - fn: 1711.0000 - accuracy: 0.6254 - val_loss: 0.6178 - val_tp: 766.0000 - val_fp: 36.0000 - val_tn: 225.0000 - val_fn: 545.0000 - val_accuracy: 0.6304\n",
      "Epoch 2/20\n",
      "129/129 [==============================] - 1s 10ms/step - loss: 0.5390 - tp: 3621.0000 - fp: 1165.0000 - tn: 4108.0000 - fn: 1652.0000 - accuracy: 0.7329 - val_loss: 0.3934 - val_tp: 1097.0000 - val_fp: 57.0000 - val_tn: 204.0000 - val_fn: 214.0000 - val_accuracy: 0.8276\n",
      "Epoch 3/20\n",
      "129/129 [==============================] - 1s 10ms/step - loss: 0.4755 - tp: 4028.0000 - fp: 1117.0000 - tn: 4156.0000 - fn: 1245.0000 - accuracy: 0.7760 - val_loss: 0.4130 - val_tp: 1037.0000 - val_fp: 38.0000 - val_tn: 223.0000 - val_fn: 274.0000 - val_accuracy: 0.8015\n",
      "Epoch 4/20\n",
      "129/129 [==============================] - 1s 10ms/step - loss: 0.4142 - tp: 4268.0000 - fp: 1026.0000 - tn: 4247.0000 - fn: 1005.0000 - accuracy: 0.8074 - val_loss: 0.3724 - val_tp: 1076.0000 - val_fp: 31.0000 - val_tn: 230.0000 - val_fn: 235.0000 - val_accuracy: 0.8308\n",
      "Epoch 5/20\n",
      "129/129 [==============================] - 1s 10ms/step - loss: 0.3498 - tp: 4500.0000 - fp: 925.0000 - tn: 4348.0000 - fn: 773.0000 - accuracy: 0.8390 - val_loss: 0.5075 - val_tp: 930.0000 - val_fp: 4.0000 - val_tn: 257.0000 - val_fn: 381.0000 - val_accuracy: 0.7551\n",
      "Epoch 6/20\n",
      "129/129 [==============================] - 1s 10ms/step - loss: 0.3029 - tp: 4644.0000 - fp: 744.0000 - tn: 4529.0000 - fn: 629.0000 - accuracy: 0.8698 - val_loss: 0.3735 - val_tp: 1066.0000 - val_fp: 4.0000 - val_tn: 257.0000 - val_fn: 245.0000 - val_accuracy: 0.8416\n",
      "Epoch 7/20\n",
      "129/129 [==============================] - 1s 10ms/step - loss: 0.2499 - tp: 4794.0000 - fp: 527.0000 - tn: 4746.0000 - fn: 479.0000 - accuracy: 0.9046 - val_loss: 0.1654 - val_tp: 1269.0000 - val_fp: 33.0000 - val_tn: 228.0000 - val_fn: 42.0000 - val_accuracy: 0.9523\n",
      "Epoch 8/20\n",
      "129/129 [==============================] - 1s 10ms/step - loss: 0.2052 - tp: 4949.0000 - fp: 337.0000 - tn: 4936.0000 - fn: 324.0000 - accuracy: 0.9373 - val_loss: 0.2410 - val_tp: 1172.0000 - val_fp: 1.0000 - val_tn: 260.0000 - val_fn: 139.0000 - val_accuracy: 0.9109\n",
      "Epoch 9/20\n",
      "129/129 [==============================] - 1s 11ms/step - loss: 0.1623 - tp: 5058.0000 - fp: 185.0000 - tn: 5088.0000 - fn: 215.0000 - accuracy: 0.9621 - val_loss: 0.1228 - val_tp: 1277.0000 - val_fp: 5.0000 - val_tn: 256.0000 - val_fn: 34.0000 - val_accuracy: 0.9752\n",
      "Epoch 10/20\n",
      "129/129 [==============================] - 1s 10ms/step - loss: 0.1336 - tp: 5105.0000 - fp: 154.0000 - tn: 5119.0000 - fn: 168.0000 - accuracy: 0.9695 - val_loss: 0.0972 - val_tp: 1295.0000 - val_fp: 4.0000 - val_tn: 257.0000 - val_fn: 16.0000 - val_accuracy: 0.9873\n",
      "Epoch 11/20\n",
      "129/129 [==============================] - 1s 10ms/step - loss: 0.1111 - tp: 5168.0000 - fp: 127.0000 - tn: 5146.0000 - fn: 105.0000 - accuracy: 0.9780 - val_loss: 0.0719 - val_tp: 1311.0000 - val_fp: 34.0000 - val_tn: 227.0000 - val_fn: 0.0000e+00 - val_accuracy: 0.9784\n",
      "Epoch 12/20\n",
      "129/129 [==============================] - 1s 10ms/step - loss: 0.0970 - tp: 5181.0000 - fp: 107.0000 - tn: 5166.0000 - fn: 92.0000 - accuracy: 0.9811 - val_loss: 0.1190 - val_tp: 1277.0000 - val_fp: 1.0000 - val_tn: 260.0000 - val_fn: 34.0000 - val_accuracy: 0.9777\n",
      "Epoch 13/20\n",
      "129/129 [==============================] - 1s 10ms/step - loss: 0.0800 - tp: 5204.0000 - fp: 78.0000 - tn: 5195.0000 - fn: 69.0000 - accuracy: 0.9861 - val_loss: 0.0675 - val_tp: 1302.0000 - val_fp: 0.0000e+00 - val_tn: 261.0000 - val_fn: 9.0000 - val_accuracy: 0.9943\n",
      "Epoch 14/20\n",
      "129/129 [==============================] - 1s 10ms/step - loss: 0.0614 - tp: 5244.0000 - fp: 35.0000 - tn: 5238.0000 - fn: 29.0000 - accuracy: 0.9939 - val_loss: 0.0553 - val_tp: 1305.0000 - val_fp: 0.0000e+00 - val_tn: 261.0000 - val_fn: 6.0000 - val_accuracy: 0.9962\n",
      "Epoch 15/20\n",
      "129/129 [==============================] - 1s 10ms/step - loss: 0.0511 - tp: 5254.0000 - fp: 24.0000 - tn: 5249.0000 - fn: 19.0000 - accuracy: 0.9959 - val_loss: 0.0371 - val_tp: 1310.0000 - val_fp: 0.0000e+00 - val_tn: 261.0000 - val_fn: 1.0000 - val_accuracy: 0.9994\n",
      "Epoch 16/20\n",
      "129/129 [==============================] - 1s 10ms/step - loss: 0.0419 - tp: 5261.0000 - fp: 15.0000 - tn: 5258.0000 - fn: 12.0000 - accuracy: 0.9974 - val_loss: 0.0305 - val_tp: 1310.0000 - val_fp: 0.0000e+00 - val_tn: 261.0000 - val_fn: 1.0000 - val_accuracy: 0.9994\n",
      "Epoch 17/20\n",
      "129/129 [==============================] - 1s 10ms/step - loss: 0.0386 - tp: 5260.0000 - fp: 18.0000 - tn: 5255.0000 - fn: 13.0000 - accuracy: 0.9971 - val_loss: 0.0287 - val_tp: 1311.0000 - val_fp: 8.0000 - val_tn: 253.0000 - val_fn: 0.0000e+00 - val_accuracy: 0.9949\n",
      "Epoch 18/20\n",
      "129/129 [==============================] - 1s 10ms/step - loss: 0.0468 - tp: 5230.0000 - fp: 48.0000 - tn: 5225.0000 - fn: 43.0000 - accuracy: 0.9914 - val_loss: 0.0231 - val_tp: 1311.0000 - val_fp: 1.0000 - val_tn: 260.0000 - val_fn: 0.0000e+00 - val_accuracy: 0.9994\n",
      "Epoch 19/20\n",
      "129/129 [==============================] - 1s 10ms/step - loss: 0.0278 - tp: 5268.0000 - fp: 10.0000 - tn: 5263.0000 - fn: 5.0000 - accuracy: 0.9986 - val_loss: 0.0328 - val_tp: 1307.0000 - val_fp: 0.0000e+00 - val_tn: 261.0000 - val_fn: 4.0000 - val_accuracy: 0.9975\n",
      "Epoch 20/20\n",
      "129/129 [==============================] - 1s 10ms/step - loss: 0.0252 - tp: 5266.0000 - fp: 5.0000 - tn: 5268.0000 - fn: 7.0000 - accuracy: 0.9989 - val_loss: 0.0364 - val_tp: 1306.0000 - val_fp: 0.0000e+00 - val_tn: 261.0000 - val_fn: 5.0000 - val_accuracy: 0.9968\n"
     ]
    }
   ],
   "source": [
    "EPOCHS = 20\n",
    "\n",
    "resampled_history = model.fit(\n",
    "    [resampled_features, resampled_categories],\n",
    "    resampled_labels,\n",
    "    # These are not real epochs\n",
    "    steps_per_epoch=resampled_steps_per_epoch,\n",
    "    epochs=EPOCHS,\n",
    "    validation_data=([val_data, val_categories], val_labels))"
   ],
   "metadata": {
    "collapsed": false
   }
  },
  {
   "cell_type": "code",
   "execution_count": 23,
   "outputs": [],
   "source": [
    "colors = plt.rcParams['axes.prop_cycle'].by_key()['color']\n",
    "\n",
    "def plot_metrics(history):\n",
    "  metrics = ['loss', 'accuracy']\n",
    "  for n, metric in enumerate(metrics):\n",
    "    name = metric.replace(\"_\",\" \").capitalize()\n",
    "    plt.subplot(2,2,n+1)\n",
    "    plt.plot(history.epoch, history.history[metric], color=colors[0], label='Train')\n",
    "    plt.plot(history.epoch, history.history['val_'+metric],\n",
    "             color=colors[0], linestyle=\"--\", label='Val')\n",
    "    plt.xlabel('Epoch')\n",
    "    plt.ylabel(name)\n",
    "    if metric == 'loss':\n",
    "      plt.ylim([0, plt.ylim()[1]])\n",
    "    elif metric == 'auc':\n",
    "      plt.ylim([0.8,1])\n",
    "    else:\n",
    "      plt.ylim([0,1])\n",
    "\n",
    "    plt.legend()"
   ],
   "metadata": {
    "collapsed": false
   }
  },
  {
   "cell_type": "code",
   "execution_count": 24,
   "outputs": [
    {
     "data": {
      "text/plain": "<Figure size 640x480 with 2 Axes>",
      "image/png": "[encoded data removed]"
     },
     "metadata": {},
     "output_type": "display_data"
    }
   ],
   "source": [
    "plot_metrics(resampled_history)"
   ],
   "metadata": {
    "collapsed": false
   }
  },
  {
   "cell_type": "code",
   "execution_count": 25,
   "outputs": [],
   "source": [
    "resampled_results = model.evaluate([test_data, test_categories], test_labels, batch_size=BATCH_SIZE, verbose=0)"
   ],
   "metadata": {
    "collapsed": false
   }
  },
  {
   "cell_type": "code",
   "execution_count": 26,
   "outputs": [
    {
     "name": "stdout",
     "output_type": "stream",
     "text": [
      "loss :  0.035112615674734116\n",
      "tp :  1609.0\n",
      "fp :  0.0\n",
      "tn :  348.0\n",
      "fn :  7.0\n",
      "accuracy :  0.996435821056366\n",
      "\n"
     ]
    }
   ],
   "source": [
    "for name, value in zip(model.metrics_names, resampled_results):\n",
    "  print(name, ': ', value)\n",
    "print()"
   ],
   "metadata": {
    "collapsed": false
   }
  },
  {
   "cell_type": "code",
   "execution_count": 27,
   "outputs": [],
   "source": [
    "def plot_cm(labels, predictions, p=0.5):\n",
    "  cm = confusion_matrix(labels, predictions > p)\n",
    "  plt.figure(figsize=(5,5))\n",
    "  sns.heatmap(cm, annot=True, fmt=\"d\")\n",
    "  plt.title('Confusion matrix @{:.2f}'.format(p))\n",
    "  plt.ylabel('Actual label')\n",
    "  plt.xlabel('Predicted label')"
   ],
   "metadata": {
    "collapsed": false
   }
  },
  {
   "cell_type": "code",
   "execution_count": 28,
   "outputs": [
    {
     "name": "stdout",
     "output_type": "stream",
     "text": [
      "16/16 [==============================] - 0s 3ms/step\n"
     ]
    }
   ],
   "source": [
    "test_predictions = model.predict([test_data, test_categories], batch_size=BATCH_SIZE)"
   ],
   "metadata": {
    "collapsed": false
   }
  },
  {
   "cell_type": "code",
   "execution_count": 29,
   "outputs": [
    {
     "data": {
      "text/plain": "<Figure size 500x500 with 2 Axes>",
      "image/png": "[encoded data removed]"
     },
     "metadata": {},
     "output_type": "display_data"
    }
   ],
   "source": [
    "plt.rcParams.update({'font.size': 22})\n",
    "plot_cm(test_labels, test_predictions)"
   ],
   "metadata": {
    "collapsed": false
   }
  },
  {
   "cell_type": "code",
   "execution_count": 35,
   "outputs": [
    {
     "data": {
      "text/plain": "7"
     },
     "execution_count": 35,
     "metadata": {},
     "output_type": "execute_result"
    }
   ],
   "source": [
    "pred = [0 if p < 0.5 else 1 for p in test_predictions]\n",
    "wrong_predictions = [i for i in range(len(pred)) if pred[i] != test_labels[i]]\n",
    "len(wrong_predictions)"
   ],
   "metadata": {
    "collapsed": false
   }
  },
  {
   "cell_type": "code",
   "execution_count": 54,
   "outputs": [],
   "source": [
    "wrong_trajectories = test_data[wrong_predictions]\n",
    "wrong_categories = test_categories[wrong_predictions]"
   ],
   "metadata": {
    "collapsed": false
   }
  },
  {
   "cell_type": "code",
   "execution_count": 57,
   "outputs": [],
   "source": [
    "wrong_trajectories = np.reshape(np.transpose(wrong_trajectories, axes=[0, 2, 1]), [wrong_trajectories.shape[0], 100])"
   ],
   "metadata": {
    "collapsed": false
   }
  },
  {
   "cell_type": "code",
   "execution_count": 66,
   "outputs": [],
   "source": [
    "show_traj = []\n",
    "for j in range(len(wrong_trajectories)):\n",
    "    for i, d in enumerate(data):\n",
    "        if np.array_equiv(d[1:-1].numpy(), wrong_trajectories[j]):\n",
    "            show_traj.append(i)\n",
    "            break"
   ],
   "metadata": {
    "collapsed": false
   }
  },
  {
   "cell_type": "code",
   "execution_count": 67,
   "outputs": [
    {
     "data": {
      "text/plain": "[459, 8101, 8187, 8082, 3459, 8136, 3451]"
     },
     "execution_count": 67,
     "metadata": {},
     "output_type": "execute_result"
    }
   ],
   "source": [
    "show_traj"
   ],
   "metadata": {
    "collapsed": false
   }
  }
 ],
 "metadata": {
  "kernelspec": {
   "display_name": "Python 3",
   "language": "python",
   "name": "python3"
  },
  "language_info": {
   "codemirror_mode": {
    "name": "ipython",
    "version": 2
   },
   "file_extension": ".py",
   "mimetype": "text/x-python",
   "name": "python",
   "nbconvert_exporter": "python",
   "pygments_lexer": "ipython2",
   "version": "2.7.6"
  }
 },
 "nbformat": 4,
 "nbformat_minor": 0
}
